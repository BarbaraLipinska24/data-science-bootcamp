{
  "nbformat": 4,
  "nbformat_minor": 0,
  "metadata": {
    "colab": {
      "provenance": [],
      "authorship_tag": "ABX9TyMvoepNik22y2ebGELGVQ8Q",
      "include_colab_link": true
    },
    "kernelspec": {
      "name": "python3",
      "display_name": "Python 3"
    },
    "language_info": {
      "name": "python"
    }
  },
  "cells": [
    {
      "cell_type": "markdown",
      "metadata": {
        "id": "view-in-github",
        "colab_type": "text"
      },
      "source": [
        "<a href=\"https://colab.research.google.com/github/BarbaraLipinska24/data-science-bootcamp/blob/main/01_wprowadzenie/02_Algebra_liniowa.ipynb\" target=\"_parent\"><img src=\"https://colab.research.google.com/assets/colab-badge.svg\" alt=\"Open In Colab\"/></a>"
      ]
    },
    {
      "cell_type": "markdown",
      "source": [
        "1. Norma wektora"
      ],
      "metadata": {
        "id": "HEegCkNQNg-z"
      }
    },
    {
      "cell_type": "code",
      "source": [
        "import numpy as np\n",
        "v1=np.array([1,4])\n",
        "v1\n",
        "\n",
        "np.linalg.norm(v1)"
      ],
      "metadata": {
        "colab": {
          "base_uri": "https://localhost:8080/"
        },
        "id": "dcZ8uYR2Niiz",
        "outputId": "4ad9d75a-2bb3-4885-ab36-a3b17f1fdbd0"
      },
      "execution_count": 3,
      "outputs": [
        {
          "output_type": "execute_result",
          "data": {
            "text/plain": [
              "4.123105625617661"
            ]
          },
          "metadata": {},
          "execution_count": 3
        }
      ]
    },
    {
      "cell_type": "markdown",
      "source": [
        "2.Norma euklidesowa"
      ],
      "metadata": {
        "id": "EegwBOsCOXo2"
      }
    },
    {
      "cell_type": "code",
      "source": [
        "v2=np.array([-10,10,13])\n",
        "np.linalg.norm(v2)"
      ],
      "metadata": {
        "colab": {
          "base_uri": "https://localhost:8080/"
        },
        "id": "-kMxBR2HOBbA",
        "outputId": "d81f7d41-0341-4238-8805-feee3da0595d"
      },
      "execution_count": 5,
      "outputs": [
        {
          "output_type": "execute_result",
          "data": {
            "text/plain": [
              "19.209372712298546"
            ]
          },
          "metadata": {},
          "execution_count": 5
        }
      ]
    },
    {
      "cell_type": "markdown",
      "source": [
        "3. Odległość dwóch punktów na płaszczyźnie\n"
      ],
      "metadata": {
        "id": "4uw5LmaOOaRg"
      }
    },
    {
      "cell_type": "code",
      "source": [
        "p=np.array([3,0])\n",
        "q=np.array([0,4])\n",
        "\n",
        "np.linalg.norm(p-q)"
      ],
      "metadata": {
        "colab": {
          "base_uri": "https://localhost:8080/"
        },
        "id": "hl2khUaROkpY",
        "outputId": "23da8210-f6b3-4601-aea4-8fa2f465d14b"
      },
      "execution_count": 8,
      "outputs": [
        {
          "output_type": "execute_result",
          "data": {
            "text/plain": [
              "5.0"
            ]
          },
          "metadata": {},
          "execution_count": 8
        }
      ]
    },
    {
      "cell_type": "markdown",
      "source": [
        "4.Odległość dwóch punktów w przestrzeni R^n"
      ],
      "metadata": {
        "id": "JfJpHxN1QXcV"
      }
    },
    {
      "cell_type": "code",
      "source": [
        "p=np.array([3,0,1])\n",
        "q=np.array([1,0,4])\n",
        "\n",
        "np.linalg.norm(p-q)"
      ],
      "metadata": {
        "colab": {
          "base_uri": "https://localhost:8080/"
        },
        "id": "O7qISHMoQekF",
        "outputId": "0707f7ee-f6dc-472a-d56d-0c5f8e3ab092"
      },
      "execution_count": 10,
      "outputs": [
        {
          "output_type": "execute_result",
          "data": {
            "text/plain": [
              "3.605551275463989"
            ]
          },
          "metadata": {},
          "execution_count": 10
        }
      ]
    },
    {
      "cell_type": "markdown",
      "source": [
        "5.Mnożenie macierzy"
      ],
      "metadata": {
        "id": "n8qtJJIhSRJ5"
      }
    },
    {
      "cell_type": "code",
      "source": [
        "X=np.array([[1,5],[6,7]])\n",
        "Y=np.array([[1],[3]])\n",
        "\n",
        "Z=np.dot(X,Y)\n",
        "print(Z)"
      ],
      "metadata": {
        "colab": {
          "base_uri": "https://localhost:8080/"
        },
        "id": "CuCRwag8SPXp",
        "outputId": "73d94f78-91d2-4e7b-e68f-3a60a7b47221"
      },
      "execution_count": 16,
      "outputs": [
        {
          "output_type": "stream",
          "name": "stdout",
          "text": [
            "[[16]\n",
            " [27]]\n"
          ]
        }
      ]
    },
    {
      "cell_type": "markdown",
      "source": [
        "6. Wyznacznik macierzy"
      ],
      "metadata": {
        "id": "a-SET1i4TVcA"
      }
    },
    {
      "cell_type": "code",
      "source": [
        "A=np.arange(1,26)\n",
        "A=A.reshape(5,-1)\n",
        "print(A)\n",
        "np.linalg.det(A)"
      ],
      "metadata": {
        "colab": {
          "base_uri": "https://localhost:8080/"
        },
        "id": "FYWd-dXjTYtD",
        "outputId": "fe22f84c-a7f1-4fe3-f084-d4de891af993"
      },
      "execution_count": 33,
      "outputs": [
        {
          "output_type": "stream",
          "name": "stdout",
          "text": [
            "[[ 1  2  3  4  5]\n",
            " [ 6  7  8  9 10]\n",
            " [11 12 13 14 15]\n",
            " [16 17 18 19 20]\n",
            " [21 22 23 24 25]]\n"
          ]
        },
        {
          "output_type": "execute_result",
          "data": {
            "text/plain": [
              "0.0"
            ]
          },
          "metadata": {},
          "execution_count": 33
        }
      ]
    },
    {
      "cell_type": "markdown",
      "source": [
        "7.Ślad macierzy\n"
      ],
      "metadata": {
        "id": "RJtCI1mzVFea"
      }
    },
    {
      "cell_type": "code",
      "source": [
        "np.trace(A)"
      ],
      "metadata": {
        "colab": {
          "base_uri": "https://localhost:8080/"
        },
        "id": "JhrjNia3VJX9",
        "outputId": "9fd5ab5b-fdb5-414d-ff19-aad05418c005"
      },
      "execution_count": 35,
      "outputs": [
        {
          "output_type": "execute_result",
          "data": {
            "text/plain": [
              "65"
            ]
          },
          "metadata": {},
          "execution_count": 35
        }
      ]
    },
    {
      "cell_type": "markdown",
      "source": [
        "8.MAcierz jednostkowa"
      ],
      "metadata": {
        "id": "5rAHye0PVZYh"
      }
    },
    {
      "cell_type": "code",
      "source": [
        "np.eye(5,dtype='int')"
      ],
      "metadata": {
        "colab": {
          "base_uri": "https://localhost:8080/"
        },
        "id": "v6L_I8ejVb5t",
        "outputId": "ffee36a6-b71d-4515-b4dd-7c6480fe5605"
      },
      "execution_count": 36,
      "outputs": [
        {
          "output_type": "execute_result",
          "data": {
            "text/plain": [
              "array([[1, 0, 0, 0, 0],\n",
              "       [0, 1, 0, 0, 0],\n",
              "       [0, 0, 1, 0, 0],\n",
              "       [0, 0, 0, 1, 0],\n",
              "       [0, 0, 0, 0, 1]])"
            ]
          },
          "metadata": {},
          "execution_count": 36
        }
      ]
    },
    {
      "cell_type": "markdown",
      "source": [
        "9.Macierz odwrotna"
      ],
      "metadata": {
        "id": "YUROr3yaVgt2"
      }
    },
    {
      "cell_type": "code",
      "source": [
        "A=np.array([[2,4],[-1,3]])\n",
        "B=np.linalg.inv(A)\n",
        "\n",
        "print(A)\n",
        "print(B)\n",
        "\n",
        "np.set_printoptions(precision=4,suppress=True)\n",
        "C=np.dot(A,B)\n",
        "\n",
        "print(C)"
      ],
      "metadata": {
        "colab": {
          "base_uri": "https://localhost:8080/"
        },
        "id": "T4ANIg29Vj8Z",
        "outputId": "5a196680-a0ec-4558-846f-f9a0c093f797"
      },
      "execution_count": 43,
      "outputs": [
        {
          "output_type": "stream",
          "name": "stdout",
          "text": [
            "[[ 2  4]\n",
            " [-1  3]]\n",
            "[[ 0.3 -0.4]\n",
            " [ 0.1  0.2]]\n",
            "[[1. 0.]\n",
            " [0. 1.]]\n"
          ]
        }
      ]
    },
    {
      "cell_type": "markdown",
      "source": [
        "10. Macierz transponowana"
      ],
      "metadata": {
        "id": "MpM9uNrOWb0L"
      }
    },
    {
      "cell_type": "code",
      "source": [
        "np.transpose(A)"
      ],
      "metadata": {
        "colab": {
          "base_uri": "https://localhost:8080/"
        },
        "id": "0uDYbXkaWktn",
        "outputId": "2fffe62a-b028-4640-a647-b6154bba01cf"
      },
      "execution_count": 45,
      "outputs": [
        {
          "output_type": "execute_result",
          "data": {
            "text/plain": [
              "array([[ 2, -1],\n",
              "       [ 4,  3]])"
            ]
          },
          "metadata": {},
          "execution_count": 45
        }
      ]
    },
    {
      "cell_type": "code",
      "source": [
        "A.T"
      ],
      "metadata": {
        "colab": {
          "base_uri": "https://localhost:8080/"
        },
        "id": "IXmDILgbWur4",
        "outputId": "d18b97c4-24fe-4865-b87c-bc4f28bde3c6"
      },
      "execution_count": 46,
      "outputs": [
        {
          "output_type": "execute_result",
          "data": {
            "text/plain": [
              "array([[ 2, -1],\n",
              "       [ 4,  3]])"
            ]
          },
          "metadata": {},
          "execution_count": 46
        }
      ]
    },
    {
      "cell_type": "markdown",
      "source": [
        "11. Rozwiązywanie układów równań\n",
        "\n"
      ],
      "metadata": {
        "id": "v0SANskMXLqo"
      }
    },
    {
      "cell_type": "markdown",
      "source": [],
      "metadata": {
        "id": "De6JyPrTOZ88"
      }
    },
    {
      "cell_type": "markdown",
      "source": [],
      "metadata": {
        "id": "-ZJkhPyoNf43"
      }
    }
  ]
}
